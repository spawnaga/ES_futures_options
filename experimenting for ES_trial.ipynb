{
 "cells": [
  {
   "cell_type": "code",
   "execution_count": 1,
   "metadata": {},
   "outputs": [],
   "source": [
    "import pandas as pd\n",
    "import numpy as np\n"
   ]
  },
  {
   "cell_type": "code",
   "execution_count": 81,
   "metadata": {},
   "outputs": [],
   "source": [
    "df_raw = pd.read_csv('//home/alex/Projects/RL_trade_ES_futures/new_data.csv') "
   ]
  },
  {
   "cell_type": "code",
   "execution_count": 82,
   "metadata": {},
   "outputs": [
    {
     "data": {
      "text/html": [
       "<div>\n",
       "<style scoped>\n",
       "    .dataframe tbody tr th:only-of-type {\n",
       "        vertical-align: middle;\n",
       "    }\n",
       "\n",
       "    .dataframe tbody tr th {\n",
       "        vertical-align: top;\n",
       "    }\n",
       "\n",
       "    .dataframe thead th {\n",
       "        text-align: right;\n",
       "    }\n",
       "</style>\n",
       "<table border=\"1\" class=\"dataframe\">\n",
       "  <thead>\n",
       "    <tr style=\"text-align: right;\">\n",
       "      <th></th>\n",
       "      <th>date</th>\n",
       "      <th>open</th>\n",
       "      <th>high</th>\n",
       "      <th>low</th>\n",
       "      <th>close</th>\n",
       "      <th>volume</th>\n",
       "      <th>average</th>\n",
       "      <th>barCount</th>\n",
       "      <th>hours</th>\n",
       "      <th>minutes</th>\n",
       "      <th>...</th>\n",
       "      <th>roll_min_cp</th>\n",
       "      <th>roll_max_vol</th>\n",
       "      <th>vol/max_vol</th>\n",
       "      <th>EMA_9-EMA_26</th>\n",
       "      <th>EMA_200-EMA_50</th>\n",
       "      <th>B_upper</th>\n",
       "      <th>B_middle</th>\n",
       "      <th>B_lower</th>\n",
       "      <th>ES_C_close</th>\n",
       "      <th>ES_P_close</th>\n",
       "    </tr>\n",
       "  </thead>\n",
       "  <tbody>\n",
       "    <tr>\n",
       "      <th>0</th>\n",
       "      <td>2020-10-23 01:19:00</td>\n",
       "      <td>3446.50</td>\n",
       "      <td>3447.00</td>\n",
       "      <td>3446.25</td>\n",
       "      <td>3446.50</td>\n",
       "      <td>96.0</td>\n",
       "      <td>3446.625</td>\n",
       "      <td>51.0</td>\n",
       "      <td>1.0</td>\n",
       "      <td>19.0</td>\n",
       "      <td>...</td>\n",
       "      <td>3441.0</td>\n",
       "      <td>880.0</td>\n",
       "      <td>0.109091</td>\n",
       "      <td>0.029117</td>\n",
       "      <td>4.695626</td>\n",
       "      <td>3447.089762</td>\n",
       "      <td>3445.889762</td>\n",
       "      <td>3444.689762</td>\n",
       "      <td>68.250</td>\n",
       "      <td>16.750</td>\n",
       "    </tr>\n",
       "    <tr>\n",
       "      <th>1</th>\n",
       "      <td>2020-10-23 01:20:00</td>\n",
       "      <td>3446.50</td>\n",
       "      <td>3447.00</td>\n",
       "      <td>3446.25</td>\n",
       "      <td>3446.25</td>\n",
       "      <td>147.0</td>\n",
       "      <td>3446.600</td>\n",
       "      <td>74.0</td>\n",
       "      <td>1.0</td>\n",
       "      <td>20.0</td>\n",
       "      <td>...</td>\n",
       "      <td>3441.0</td>\n",
       "      <td>880.0</td>\n",
       "      <td>0.167045</td>\n",
       "      <td>0.099427</td>\n",
       "      <td>4.645922</td>\n",
       "      <td>3447.281956</td>\n",
       "      <td>3446.081956</td>\n",
       "      <td>3444.881956</td>\n",
       "      <td>68.000</td>\n",
       "      <td>16.750</td>\n",
       "    </tr>\n",
       "    <tr>\n",
       "      <th>2</th>\n",
       "      <td>2020-10-23 01:21:00</td>\n",
       "      <td>3446.25</td>\n",
       "      <td>3446.25</td>\n",
       "      <td>3445.25</td>\n",
       "      <td>3445.50</td>\n",
       "      <td>111.0</td>\n",
       "      <td>3445.725</td>\n",
       "      <td>48.0</td>\n",
       "      <td>1.0</td>\n",
       "      <td>21.0</td>\n",
       "      <td>...</td>\n",
       "      <td>3441.0</td>\n",
       "      <td>880.0</td>\n",
       "      <td>0.126136</td>\n",
       "      <td>0.055592</td>\n",
       "      <td>4.618779</td>\n",
       "      <td>3447.337476</td>\n",
       "      <td>3446.137476</td>\n",
       "      <td>3444.937476</td>\n",
       "      <td>67.625</td>\n",
       "      <td>17.000</td>\n",
       "    </tr>\n",
       "    <tr>\n",
       "      <th>3</th>\n",
       "      <td>2020-10-23 01:22:00</td>\n",
       "      <td>3445.25</td>\n",
       "      <td>3445.75</td>\n",
       "      <td>3444.75</td>\n",
       "      <td>3445.00</td>\n",
       "      <td>138.0</td>\n",
       "      <td>3445.175</td>\n",
       "      <td>68.0</td>\n",
       "      <td>1.0</td>\n",
       "      <td>22.0</td>\n",
       "      <td>...</td>\n",
       "      <td>3441.0</td>\n",
       "      <td>880.0</td>\n",
       "      <td>0.156818</td>\n",
       "      <td>-0.040666</td>\n",
       "      <td>4.605790</td>\n",
       "      <td>3447.223397</td>\n",
       "      <td>3446.023397</td>\n",
       "      <td>3444.823397</td>\n",
       "      <td>67.125</td>\n",
       "      <td>17.125</td>\n",
       "    </tr>\n",
       "    <tr>\n",
       "      <th>4</th>\n",
       "      <td>2020-10-23 01:23:00</td>\n",
       "      <td>3445.00</td>\n",
       "      <td>3445.50</td>\n",
       "      <td>3445.00</td>\n",
       "      <td>3445.00</td>\n",
       "      <td>104.0</td>\n",
       "      <td>3445.075</td>\n",
       "      <td>50.0</td>\n",
       "      <td>1.0</td>\n",
       "      <td>23.0</td>\n",
       "      <td>...</td>\n",
       "      <td>3441.0</td>\n",
       "      <td>880.0</td>\n",
       "      <td>0.118182</td>\n",
       "      <td>-0.111365</td>\n",
       "      <td>4.591637</td>\n",
       "      <td>3447.060788</td>\n",
       "      <td>3445.811788</td>\n",
       "      <td>3444.562788</td>\n",
       "      <td>67.125</td>\n",
       "      <td>17.125</td>\n",
       "    </tr>\n",
       "  </tbody>\n",
       "</table>\n",
       "<p>5 rows × 38 columns</p>\n",
       "</div>"
      ],
      "text/plain": [
       "                  date     open     high      low    close  volume   average  \\\n",
       "0  2020-10-23 01:19:00  3446.50  3447.00  3446.25  3446.50    96.0  3446.625   \n",
       "1  2020-10-23 01:20:00  3446.50  3447.00  3446.25  3446.25   147.0  3446.600   \n",
       "2  2020-10-23 01:21:00  3446.25  3446.25  3445.25  3445.50   111.0  3445.725   \n",
       "3  2020-10-23 01:22:00  3445.25  3445.75  3444.75  3445.00   138.0  3445.175   \n",
       "4  2020-10-23 01:23:00  3445.00  3445.50  3445.00  3445.00   104.0  3445.075   \n",
       "\n",
       "   barCount  hours  minutes  ...  roll_min_cp  roll_max_vol  vol/max_vol  \\\n",
       "0      51.0    1.0     19.0  ...       3441.0         880.0     0.109091   \n",
       "1      74.0    1.0     20.0  ...       3441.0         880.0     0.167045   \n",
       "2      48.0    1.0     21.0  ...       3441.0         880.0     0.126136   \n",
       "3      68.0    1.0     22.0  ...       3441.0         880.0     0.156818   \n",
       "4      50.0    1.0     23.0  ...       3441.0         880.0     0.118182   \n",
       "\n",
       "   EMA_9-EMA_26  EMA_200-EMA_50      B_upper     B_middle      B_lower  \\\n",
       "0      0.029117        4.695626  3447.089762  3445.889762  3444.689762   \n",
       "1      0.099427        4.645922  3447.281956  3446.081956  3444.881956   \n",
       "2      0.055592        4.618779  3447.337476  3446.137476  3444.937476   \n",
       "3     -0.040666        4.605790  3447.223397  3446.023397  3444.823397   \n",
       "4     -0.111365        4.591637  3447.060788  3445.811788  3444.562788   \n",
       "\n",
       "   ES_C_close  ES_P_close  \n",
       "0      68.250      16.750  \n",
       "1      68.000      16.750  \n",
       "2      67.625      17.000  \n",
       "3      67.125      17.125  \n",
       "4      67.125      17.125  \n",
       "\n",
       "[5 rows x 38 columns]"
      ]
     },
     "execution_count": 82,
     "metadata": {},
     "output_type": "execute_result"
    }
   ],
   "source": [
    "df_raw.head()"
   ]
  },
  {
   "cell_type": "code",
   "execution_count": 83,
   "metadata": {},
   "outputs": [],
   "source": [
    "df = df_raw[['close','EMA_9','EMA_26']]"
   ]
  },
  {
   "cell_type": "code",
   "execution_count": 84,
   "metadata": {},
   "outputs": [],
   "source": [
    "df_raw['dev_1'] = np.gradient(df_raw['EMA_9'])\n",
    "df_raw['dev_2'] = np.gradient(df_raw['dev_1'])"
   ]
  },
  {
   "cell_type": "code",
   "execution_count": 89,
   "metadata": {},
   "outputs": [
    {
     "data": {
      "text/plain": [
       "<AxesSubplot:>"
      ]
     },
     "execution_count": 89,
     "metadata": {},
     "output_type": "execute_result"
    },
    {
     "data": {
      "image/png": "[encoded data removed]",
      "text/plain": [
       "<Figure size 432x288 with 1 Axes>"
      ]
     },
     "metadata": {
      "needs_background": "light"
     },
     "output_type": "display_data"
    }
   ],
   "source": [
    "df_raw[['EMA_9-EMA_26']][-500:].plot()"
   ]
  },
  {
   "cell_type": "code",
   "execution_count": 65,
   "metadata": {},
   "outputs": [],
   "source": [
    "df_raw['dev_1_26'] = np.gradient(df_raw['EMA_'])"
   ]
  },
  {
   "cell_type": "code",
   "execution_count": 90,
   "metadata": {},
   "outputs": [
    {
     "data": {
      "text/plain": [
       "<AxesSubplot:>"
      ]
     },
     "execution_count": 90,
     "metadata": {},
     "output_type": "execute_result"
    },
    {
     "data": {
      "image/png": "[encoded data removed]",
      "text/plain": [
       "<Figure size 432x288 with 1 Axes>"
      ]
     },
     "metadata": {
      "needs_background": "light"
     },
     "output_type": "display_data"
    }
   ],
   "source": [
    "df[['close','EMA_9','EMA_26']][-500:].plot()"
   ]
  },
  {
   "cell_type": "code",
   "execution_count": null,
   "metadata": {},
   "outputs": [],
   "source": [
    "x"
   ]
  },
  {
   "cell_type": "code",
   "execution_count": null,
   "metadata": {},
   "outputs": [],
   "source": [
    "x = pd.Series(np.diff(x))"
   ]
  },
  {
   "cell_type": "code",
   "execution_count": null,
   "metadata": {},
   "outputs": [],
   "source": [
    "x[:10]"
   ]
  },
  {
   "cell_type": "code",
   "execution_count": null,
   "metadata": {},
   "outputs": [],
   "source": [
    "g = np.diff(x)\n",
    "plt.plot(g)"
   ]
  },
  {
   "cell_type": "code",
   "execution_count": null,
   "metadata": {},
   "outputs": [],
   "source": [
    "x[:25].plot()\n",
    "plt.plot(g[:25])\n",
    "plt.legend()"
   ]
  },
  {
   "cell_type": "code",
   "execution_count": null,
   "metadata": {},
   "outputs": [],
   "source": []
  },
  {
   "cell_type": "code",
   "execution_count": null,
   "metadata": {},
   "outputs": [],
   "source": [
    "from matplotlib import pyplot as plt \n",
    "%matplotlib inline "
   ]
  },
  {
   "cell_type": "code",
   "execution_count": null,
   "metadata": {},
   "outputs": [],
   "source": [
    "from sklearn.preprocessing import MinMaxScaler\n",
    "m = MinMaxScaler()\n",
    "\n",
    "C= m.fit_transform(C.values.reshape(-1,1))\n",
    "E9= m.fit_transform(E9.values.reshape(-1,1))"
   ]
  },
  {
   "cell_type": "code",
   "execution_count": null,
   "metadata": {},
   "outputs": [],
   "source": [
    "plt.plot(C, label = 'l1')\n",
    "plt.plot(x, label = 'l2')\n",
    "plt.plot(E9, label = 'l3')\n",
    "plt.legend()"
   ]
  },
  {
   "cell_type": "code",
   "execution_count": null,
   "metadata": {},
   "outputs": [],
   "source": [
    "x.plot()"
   ]
  },
  {
   "cell_type": "code",
   "execution_count": null,
   "metadata": {},
   "outputs": [],
   "source": [
    "c.plot()"
   ]
  },
  {
   "cell_type": "code",
   "execution_count": null,
   "metadata": {},
   "outputs": [],
   "source": [
    "E9 =df['EMA_9'][-100:].reset_index(drop = True)\n",
    "C = df['close'][-100:].reset_index(drop = True)"
   ]
  },
  {
   "cell_type": "code",
   "execution_count": null,
   "metadata": {},
   "outputs": [],
   "source": [
    "c"
   ]
  },
  {
   "cell_type": "code",
   "execution_count": null,
   "metadata": {},
   "outputs": [],
   "source": []
  },
  {
   "cell_type": "code",
   "execution_count": null,
   "metadata": {},
   "outputs": [],
   "source": []
  },
  {
   "cell_type": "code",
   "execution_count": 93,
   "metadata": {},
   "outputs": [
    {
     "data": {
      "text/plain": [
       "Index(['close', 'EMA_9', 'EMA_26'], dtype='object')"
      ]
     },
     "execution_count": 93,
     "metadata": {},
     "output_type": "execute_result"
    }
   ],
   "source": [
    "df.columns"
   ]
  },
  {
   "cell_type": "code",
   "execution_count": null,
   "metadata": {},
   "outputs": [],
   "source": []
  },
  {
   "cell_type": "code",
   "execution_count": 97,
   "metadata": {},
   "outputs": [
    {
     "name": "stdout",
     "output_type": "stream",
     "text": [
      "checking ATR and max_vol roll period\n",
      "var = 0.25, returns = 10425.0\n",
      "var = 0.5, returns = 10425.0\n",
      "var = 0.75, returns = 10425.0\n",
      "var = 1.0, returns = 10425.0\n",
      "var = 1.25, returns = 10425.0\n",
      "var = 1.5, returns = 10425.0\n",
      "var = 1.75, returns = 10425.0\n",
      "var = 2.0, returns = 10425.0\n",
      "var = 2.25, returns = 10425.0\n",
      "var = 2.5, returns = 10425.0\n",
      "var = 2.75, returns = 10425.0\n",
      "var = 3.0, returns = 10425.0\n",
      "var = 3.25, returns = 10425.0\n",
      "var = 3.5, returns = 10425.0\n",
      "var = 3.75, returns = 10425.0\n",
      "var = 4.0, returns = 10425.0\n",
      "var = 4.25, returns = 10425.0\n",
      "var = 4.5, returns = 10425.0\n",
      "var = 4.75, returns = 10425.0\n",
      "Max ATR is at 0.25\n"
     ]
    }
   ],
   "source": [
    "print('checking ATR and max_vol roll period')\n",
    "var_ret = {}\n",
    "var = 0.25\n",
    "df = df_raw[['high', 'low', 'volume', 'close', 'RSI', 'ATR', 'roll_max_cp', 'roll_min_cp',\n",
    "             'roll_max_vol', 'EMA_9-EMA_26','dev_1', 'ES_C_close','ES_P_close']]\n",
    "buy_index = []\n",
    "sell_index = []\n",
    "stock_owned = np.zeros(2)\n",
    "var_ret = {}\n",
    "while var != 5:\n",
    "    ret = []\n",
    "    for i in range(1,len(df)):\n",
    "        if df[\"EMA_9-EMA_26\"].iloc[i] > 1 and df[\"EMA_9-EMA_26\"].iloc[i-1] > df[\"EMA_9-EMA_26\"].iloc[i] and \\\n",
    "                buy_index == [] and stock_owned[0] == 0 and stock_owned[1] == 0:\n",
    "\n",
    "            tickers_signal = \"Buy call\"\n",
    "            buy_index.append(0)\n",
    "            stock_owned = [1, 0]\n",
    "\n",
    "        elif df[\"EMA_9-EMA_26\"].iloc[i] < 1 and df[\"EMA_9-EMA_26\"].iloc[i-1] < df[\"EMA_9-EMA_26\"].iloc[i] and \\\n",
    "                buy_index == [] and stock_owned[0] == 0 and stock_owned[1] == 0:\n",
    "\n",
    "            tickers_signal = \"Buy put\"\n",
    "            buy_index.append(1)\n",
    "            stock_owned = [0, 1]\n",
    "\n",
    "        elif (df[\"dev_1\"].iloc[i] < df[\"dev_1\"].iloc[i - 1] and df[\"dev_1\"].iloc[i] < df[\"dev_1\"].iloc[i - 2] and df[\"dev_1\"].iloc[i] < df[\"dev_1\"].iloc[i - 3] and df[\"dev_1\"].iloc[i] < df[\"dev_1\"].iloc[i - 4]) and stock_owned[0] == 1 and stock_owned[1] == 0:\n",
    "            tickers_signal = \"sell call\"\n",
    "            sell_index.append(0)\n",
    "            stock_owned = [0, 0]\n",
    "\n",
    "\n",
    "        elif (df[\"dev_1\"].iloc[i] > df[\"dev_1\"].iloc[i - 1] and df[\"dev_1\"].iloc[i] > df[\"dev_1\"].iloc[i - 2] and df[\"dev_1\"].iloc[i] > df[\"dev_1\"].iloc[i - 3] and df[\"dev_1\"].iloc[i] > df[\"dev_1\"].iloc[i - 4]) and stock_owned[0] == 0 and stock_owned[1] == 1:\n",
    "            tickers_signal = \"sell put\"\n",
    "            sell_index.append(1)\n",
    "            stock_owned = [0, 0]\n",
    "        else:\n",
    "            tickers_signal = \"Hold\"\n",
    "            sell_index = []\n",
    "            buy_index = []\n",
    "            if stock_owned[0] != 0:\n",
    "                ret.append(df['ES_C_close'][i] - df['ES_C_close'][i - 1])\n",
    "            elif stock_owned[1] != 0:\n",
    "                ret.append(df['ES_P_close'][i] - df['ES_P_close'][i - 1])\n",
    "            else:\n",
    "                ret.append(0)\n",
    "\n",
    "    print(f'var = {var}, returns = {sum(ret) * 50}')\n",
    "    var_ret[str(var)] = sum(ret) * 50\n",
    "    var += 0.25\n",
    "\n",
    "ATR = max(var_ret, key=var_ret.get)\n",
    "print('Max ATR is at', ATR)\n",
    "vol_var = 5\n",
    "var_ret = {}"
   ]
  },
  {
   "cell_type": "code",
   "execution_count": 57,
   "metadata": {},
   "outputs": [
    {
     "name": "stdout",
     "output_type": "stream",
     "text": [
      "checking ATR and max_vol roll period\n",
      "var = 0.25, returns = 2387.5\n",
      "var = 0.5, returns = 2387.5\n",
      "var = 0.75, returns = 2387.5\n",
      "var = 1.0, returns = 2387.5\n",
      "var = 1.25, returns = 2387.5\n",
      "var = 1.5, returns = 2387.5\n",
      "var = 1.75, returns = 2387.5\n",
      "var = 2.0, returns = 2387.5\n",
      "var = 2.25, returns = 2387.5\n",
      "var = 2.5, returns = 2387.5\n",
      "var = 2.75, returns = 2387.5\n",
      "var = 3.0, returns = 2387.5\n",
      "var = 3.25, returns = 2387.5\n",
      "var = 3.5, returns = 2387.5\n",
      "var = 3.75, returns = 2387.5\n",
      "var = 4.0, returns = 2387.5\n",
      "var = 4.25, returns = 2387.5\n",
      "var = 4.5, returns = 2387.5\n",
      "var = 4.75, returns = 2387.5\n",
      "Max ATR is at 0.25\n"
     ]
    }
   ],
   "source": [
    "print('checking ATR and max_vol roll period')\n",
    "var_ret = {}\n",
    "var = 0.25\n",
    "df = df[\n",
    "    ['high', 'low', 'close', 'volume', 'roll_max_vol','dev_1', 'roll_max_cp', 'roll_min_cp', 'ATR', 'ES_C_close',\n",
    "     'ES_P_close']]\n",
    "buy_index = []\n",
    "sell_index = []\n",
    "stock_owned = np.zeros(2)\n",
    "var_ret = {}\n",
    "while var != 5:\n",
    "    ret = []\n",
    "    for i in range(1,len(df)):\n",
    "        if df[\"high\"].iloc[i] >= df[\"roll_max_cp\"].iloc[i - 1] and \\\n",
    "                df[\"volume\"].iloc[i] > df[\"roll_max_vol\"].iloc[i - 1] and \\\n",
    "                buy_index == [] and stock_owned[0] == 0 and stock_owned[1] == 0:\n",
    "\n",
    "            tickers_signal = \"Buy call\"\n",
    "            buy_index.append(0)\n",
    "            stock_owned = [1, 0]\n",
    "\n",
    "        elif df[\"low\"].iloc[i] <= df[\"roll_min_cp\"].iloc[i - 1] and \\\n",
    "                df[\"volume\"].iloc[i] > df[\"roll_max_vol\"].iloc[i - 1] and \\\n",
    "                buy_index == [] and stock_owned[0] == 0 and stock_owned[1] == 0:\n",
    "\n",
    "            tickers_signal = \"Buy put\"\n",
    "            buy_index.append(1)\n",
    "            stock_owned = [0, 1]\n",
    "\n",
    "#         elif df[\"low\"].iloc[i] <= df[\"roll_min_cp\"].iloc[i - 1] and df[\"volume\"].iloc[i] > \\\n",
    "#                 df[\"roll_max_vol\"].iloc[i - 1] and stock_owned[0] == 1 and stock_owned[1] == 0:\n",
    "#             tickers_signal = \"sell call and buy puts\"\n",
    "#             sell_index.append(0)\n",
    "#             buy_index.append(1)\n",
    "#             stock_owned = [0, 1]\n",
    "\n",
    "\n",
    "#         elif df[\"high\"].iloc[i] >= df[\"roll_max_cp\"].iloc[i - 1] and df[\"volume\"].iloc[i] > \\\n",
    "#                 df[\"roll_max_vol\"].iloc[i - 1] and stock_owned[1] == 1 and stock_owned[0] == 0:\n",
    "#             tickers_signal = \"sell put and buy calls\"\n",
    "#             sell_index.append(1)\n",
    "#             buy_index.append(0)\n",
    "#             stock_owned = [1, 0]\n",
    "\n",
    "        elif (df[\"dev_1\"].iloc[i] < df[\"dev_1\"].iloc[i - 1] and df[\"dev_1\"].iloc[i] < df[\"dev_1\"].iloc[i - 2] and df[\"dev_1\"].iloc[i] < df[\"dev_1\"].iloc[i - 3] and df[\"dev_1\"].iloc[i] < df[\"dev_1\"].iloc[i - 4]) and stock_owned[0] == 1 and stock_owned[1] == 0:\n",
    "            tickers_signal = \"sell call\"\n",
    "            sell_index.append(0)\n",
    "            stock_owned = [0, 0]\n",
    "\n",
    "\n",
    "        elif (df[\"dev_1\"].iloc[i] > df[\"dev_1\"].iloc[i - 1] and df[\"dev_1\"].iloc[i] > df[\"dev_1\"].iloc[i - 2] and df[\"dev_1\"].iloc[i] > df[\"dev_1\"].iloc[i - 3] and df[\"dev_1\"].iloc[i] > df[\"dev_1\"].iloc[i - 4]) and stock_owned[0] == 0 and stock_owned[1] == 1:\n",
    "            tickers_signal = \"sell put\"\n",
    "            sell_index.append(1)\n",
    "            stock_owned = [0, 0]\n",
    "        else:\n",
    "            tickers_signal = \"Hold\"\n",
    "            sell_index = []\n",
    "            buy_index = []\n",
    "            if stock_owned[0] != 0:\n",
    "                ret.append(df['ES_C_close'][i] - df['ES_C_close'][i - 1])\n",
    "            elif stock_owned[1] != 0:\n",
    "                ret.append(df['ES_P_close'][i] - df['ES_P_close'][i - 1])\n",
    "            else:\n",
    "                ret.append(0)\n",
    "\n",
    "    print(f'var = {var}, returns = {sum(ret) * 50}')\n",
    "    var_ret[str(var)] = sum(ret) * 50\n",
    "    var += 0.25\n",
    "\n",
    "ATR = max(var_ret, key=var_ret.get)\n",
    "print('Max ATR is at', ATR)\n",
    "vol_var = 5\n",
    "var_ret = {}"
   ]
  },
  {
   "cell_type": "code",
   "execution_count": null,
   "metadata": {},
   "outputs": [],
   "source": []
  }
 ],
 "metadata": {
  "kernelspec": {
   "display_name": "Python 3",
   "language": "python",
   "name": "python3"
  },
  "language_info": {
   "codemirror_mode": {
    "name": "ipython",
    "version": 3
   },
   "file_extension": ".py",
   "mimetype": "text/x-python",
   "name": "python",
   "nbconvert_exporter": "python",
   "pygments_lexer": "ipython3",
   "version": "3.7.6"
  }
 },
 "nbformat": 4,
 "nbformat_minor": 4
}
